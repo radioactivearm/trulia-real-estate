{
 "cells": [
  {
   "cell_type": "code",
   "execution_count": null,
   "metadata": {},
   "outputs": [],
   "source": [
    "import pandas as pd\n",
    "from sqlalchemy import create_engine\n",
    "from config import password"
   ]
  },
  {
   "cell_type": "markdown",
   "metadata": {},
   "source": [
    "### Extract CSVs into DataFrames"
   ]
  },
  {
   "cell_type": "code",
   "execution_count": null,
   "metadata": {},
   "outputs": [],
   "source": [
    "trulia_file = \"../data/trulia_real_estate_data.csv\"\n",
    "trulia_df = pd.read_csv(trulia_file)\n",
    "\n",
    "trulia_df.head()"
   ]
  },
  {
   "cell_type": "code",
   "execution_count": null,
   "metadata": {},
   "outputs": [],
   "source": [
    "location_file = \"../data/state_center.csv\"\n",
    "location_df = pd.read_csv(location_file)\n",
    "\n",
    "location_df.head()"
   ]
  },
  {
   "cell_type": "markdown",
   "metadata": {},
   "source": [
    "### Transform Trulia Dataframe"
   ]
  },
  {
   "cell_type": "code",
   "execution_count": null,
   "metadata": {},
   "outputs": [],
   "source": [
    "# Create a filtered dataframe from specific columns\n",
    "trulia_columns = [\"Uniq Id\", \"Price\", \"Sqr Ft\", \"Longitude\", \"Latitude\", \"Beds\", \"Bath\", \"Year Built\", \"Address\", \"City\", \"State\", \"Zipcode\"]\n",
    "trulia_transformed = trulia_df[trulia_columns].copy()\n",
    "\n",
    "# Rename column headers\n",
    "trulia_transformed = trulia_transformed.rename(columns={\"Uniq Id\": \"id\",\n",
    "                                                       \"Price\": \"price\",\n",
    "                                                       \"Sqr Ft\": \"sqr_ft\",\n",
    "                                                       \"Longitude\": \"longitude\",\n",
    "                                                       \"Latitude\": \"latitude\",\n",
    "                                                       \"Beds\": \"beds\",\n",
    "                                                       \"Bath\": \"bath\",\n",
    "                                                       \"Year Built\": \"year_built\",\n",
    "                                                        \"Address\": \"address\",\n",
    "                                                        \"City\": \"city\",\n",
    "                                                        \"State\": \"state\",\n",
    "                                                        \"Zipcode\": \"zipcode\"})\n",
    "\n",
    "# Clean data by dropping duplicates and set the index\n",
    "trulia_cleaned = trulia_transformed.dropna()\n",
    "trulia_cleaned.set_index(\"id\")\n"
   ]
  },
  {
   "cell_type": "code",
   "execution_count": null,
   "metadata": {},
   "outputs": [],
   "source": [
    "# Spliting the Data\n",
    "trulia_split_price = trulia_cleaned.price.str.replace(\",\",\"\").str.strip(\"$\")\n",
    "trulia_split_sqft = trulia_cleaned.sqr_ft.str.replace(\",\",\"\").str.strip(\"sqft\")\n"
   ]
  },
  {
   "cell_type": "code",
   "execution_count": null,
   "metadata": {},
   "outputs": [],
   "source": [
    "# Adding Split Data to DataFrame\n",
    "trulia_cleaned.price = trulia_split_price\n",
    "trulia_cleaned.sqr_ft = trulia_split_sqft\n",
    "\n",
    "trulia_cleaned.head()"
   ]
  },
  {
   "cell_type": "markdown",
   "metadata": {},
   "source": [

    "### Transform Location Dataframe"
    "### Transform States Dataframe"

   ]
  },
  {
   "cell_type": "code",
   "execution_count": null,
   "metadata": {},
   "outputs": [],
   "source": [
    "# Create a filtered dataframe from specific columns\n",
    "location_columns = [\"state\", \"latitude\", \"longitude\", \"name\"]\n",
    "location_transformed = location_df[location_columns].copy()\n",
    "\n",
    "location_transformed"
   ]
  },
  {
   "cell_type": "markdown",
   "metadata": {},
   "source": [
    "### Create database connection"
   ]
  },
  {
   "cell_type": "code",
   "execution_count": null,
   "metadata": {},
   "outputs": [],
   "source": [
    "connection_string = f\"postgres:{password}@localhost:5432/real_estate_db\"\n",
    "engine = create_engine(f'postgresql://{connection_string}')"
   ]
  },
  {
   "cell_type": "code",
   "execution_count": null,
   "metadata": {},
   "outputs": [],
   "source": [
    "# Confirm Tables\n",
    "engine.table_names()"
   ]
  },
  {
   "cell_type": "markdown",
   "metadata": {},
   "source": [
    "### Load DataFrames into Database"
   ]
  },
  {
   "cell_type": "code",
   "execution_count": null,
   "metadata": {},
   "outputs": [],
   "source": [
    "trulia_cleaned.to_sql(name=\"trulia_real_estate\", con=engine, if_exists='append', index=False)"
   ]
  },
  {
   "cell_type": "code",
   "execution_count": null,
   "metadata": {},
   "outputs": [],
   "source": [
    "location_transformed.to_sql(name=\"locations\", con=engine, if_exists='append', index=False)"
   ]
  }
 ],
 "metadata": {
  "kernelspec": {
   "display_name": "Python 3",
   "language": "python",
   "name": "python3"
  },
  "language_info": {
   "codemirror_mode": {
    "name": "ipython",
    "version": 3
   },
   "file_extension": ".py",
   "mimetype": "text/x-python",
   "name": "python",
   "nbconvert_exporter": "python",
   "pygments_lexer": "ipython3",
   "version": "3.6.10"
  }
 },
 "nbformat": 4,
 "nbformat_minor": 4
}
